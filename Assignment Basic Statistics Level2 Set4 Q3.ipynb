{
 "cells": [
  {
   "cell_type": "markdown",
   "id": "63a4d840",
   "metadata": {},
   "source": [
    "  3.\tAuditors at a small community bank randomly sample 100 withdrawal transactions made during \n",
    " the week at an ATM machine located near the bank’s main branch. Over the past 2 years, the average \n",
    " withdrawal amount has been $50 with a standard deviation of $40. Since audit investigations\n",
    " are typically expensive, the auditors decide to not initiate\n",
    " further investigations if the mean transaction amount of the sample is between $45 and $55. \n",
    " What is the probability that in any given week, there will be an investigation?\n",
    "\n",
    " A.\t1.25%\n",
    " B.\t2.5%\n",
    " C.\t10.55%\n",
    " D.\t21.1%\n",
    " E.\t50% "
   ]
  },
  {
   "cell_type": "code",
   "execution_count": 6,
   "id": "097875d0",
   "metadata": {},
   "outputs": [],
   "source": [
    "### importing libraries\n",
    "\n",
    "import numpy as np \n",
    "from scipy import stats\n",
    "from scipy.stats import norm \n"
   ]
  },
  {
   "cell_type": "markdown",
   "id": "2e9a6074",
   "metadata": {},
   "source": [
    "In the question, n= 100, population mean =50 and standard deviation = 40, as number of samples are more than 30 \n",
    "we will calculate z score."
   ]
  },
  {
   "cell_type": "markdown",
   "id": "1adee998",
   "metadata": {},
   "source": [
    " Probability that there will be an investigation can be calculated as 1 - P(45<X<55)"
   ]
  },
  {
   "cell_type": "code",
   "execution_count": 4,
   "id": "900cf4ce",
   "metadata": {},
   "outputs": [
    {
     "data": {
      "text/plain": [
       "-1.25"
      ]
     },
     "execution_count": 4,
     "metadata": {},
     "output_type": "execute_result"
    }
   ],
   "source": [
    "## Z score at x =45 can be calculated using formula, \n",
    "### z = (sample_mean-population-mean)/(standard deviation/sqrt(n))\n",
    "\n",
    "z = (45-50)/(40/np.sqrt(100))\n",
    "z "
   ]
  },
  {
   "cell_type": "code",
   "execution_count": 6,
   "id": "f1c23406",
   "metadata": {},
   "outputs": [
    {
     "data": {
      "text/plain": [
       "1.25"
      ]
     },
     "execution_count": 6,
     "metadata": {},
     "output_type": "execute_result"
    }
   ],
   "source": [
    "### Z score at x =55\n",
    "\n",
    "z=(55-50)/(40/np.sqrt(100))\n",
    "z "
   ]
  },
  {
   "cell_type": "code",
   "execution_count": 7,
   "id": "43fb2195",
   "metadata": {},
   "outputs": [
    {
     "data": {
      "text/plain": [
       "0.7887004526662893"
      ]
     },
     "execution_count": 7,
     "metadata": {},
     "output_type": "execute_result"
    }
   ],
   "source": [
    "## Probability that there will be no investigation \n",
    "\n",
    "stats.norm.cdf(1.25)- stats.norm.cdf(-1.25)"
   ]
  },
  {
   "cell_type": "code",
   "execution_count": 8,
   "id": "94854b46",
   "metadata": {},
   "outputs": [
    {
     "data": {
      "text/plain": [
       "(45.00000495667348, 54.99999504332652)"
      ]
     },
     "execution_count": 8,
     "metadata": {},
     "output_type": "execute_result"
    }
   ],
   "source": [
    "stats.norm.interval(0.7887, loc= 50, scale=40/(np.sqrt(100)))"
   ]
  },
  {
   "cell_type": "code",
   "execution_count": 9,
   "id": "2381498f",
   "metadata": {},
   "outputs": [
    {
     "data": {
      "text/plain": [
       "0.21130000000000004"
      ]
     },
     "execution_count": 9,
     "metadata": {},
     "output_type": "execute_result"
    }
   ],
   "source": [
    "## Probability that there will be an investigation\n",
    "\n",
    "# 1- P(45<X<55)\n",
    "1-0.7887"
   ]
  },
  {
   "cell_type": "markdown",
   "id": "7c589e7a",
   "metadata": {},
   "source": [
    "Hence answer is option D which is 21.1%"
   ]
  }
 ],
 "metadata": {
  "kernelspec": {
   "display_name": "Python 3",
   "language": "python",
   "name": "python3"
  },
  "language_info": {
   "codemirror_mode": {
    "name": "ipython",
    "version": 3
   },
   "file_extension": ".py",
   "mimetype": "text/x-python",
   "name": "python",
   "nbconvert_exporter": "python",
   "pygments_lexer": "ipython3",
   "version": "3.8.8"
  }
 },
 "nbformat": 4,
 "nbformat_minor": 5
}
